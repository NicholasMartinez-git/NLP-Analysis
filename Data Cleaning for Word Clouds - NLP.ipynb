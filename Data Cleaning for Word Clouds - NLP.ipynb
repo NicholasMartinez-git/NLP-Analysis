{
 "cells": [
  {
   "cell_type": "markdown",
   "id": "4eb5cec5",
   "metadata": {},
   "source": [
    "## Data Cleaning"
   ]
  },
  {
   "cell_type": "markdown",
   "id": "c7c198c9",
   "metadata": {},
   "source": [
    "Specifically, we'll be:\n",
    "\n",
    "1. Getting the data - scraping data from a website\n",
    "2. Cleaning the data - applying popular text pre-processing techniques\n",
    "3. Organizing the data - organize the cleaned data into a way that is easy to input into other algorithms\n",
    "\n",
    "The output of this notebook will be clean, organized data in two standard text formats:\n",
    "\n",
    "1. Corpus - a collection of text\n",
    "2. Document-Term Matrix - word counts in matrix format"
   ]
  },
  {
   "cell_type": "markdown",
   "id": "4cb68666",
   "metadata": {},
   "source": [
    "## Problem Statement"
   ]
  },
  {
   "cell_type": "markdown",
   "id": "16ecca5f",
   "metadata": {},
   "source": [
    "Analyze transcripts to find valuable insights of what is being discussed.\n",
    "\n",
    "Ex: Restaurant reviews to determine sentiment analysis or bank call center transcripts to determine topic modeling"
   ]
  },
  {
   "cell_type": "code",
   "execution_count": 1,
   "id": "4c708556",
   "metadata": {},
   "outputs": [],
   "source": [
    "# Web scraping, pickle imports\n",
    "import requests\n",
    "from bs4 import BeautifulSoup\n",
    "import pickle\n",
    "\n",
    "# Scrapes transcript data from yelp.com\n",
    "def url_to_transcript(url):\n",
    "    page = requests.get(url).text #gets all the content from that url\n",
    "    soup = BeautifulSoup(page, \"lxml\") #reads all the text as a html documnet\n",
    "    text = [p.text for p in soup.find_all(class_=\"f3cNr0xDcwvMaBkpjQj5\")]\n",
    "    print(url)\n",
    "    return text\n",
    "# t9JcvSL3Bsj1lxMSi3pz h_kb2PFOoyZe1skyGiz9 Ti64w3n01MDTYZb59n6Q\n",
    "# URLs of transcripts in scope\n",
    "urls = ['https://www.opentable.com/r/piatti-san-antonio?corrid=4cec5420-b025-46d0-9c85-c7593b9a80fb&avt=eyJ2IjoyLCJtIjowLCJwIjowLCJzIjowLCJuIjowfQ&p=2&sd=2022-05-31T21%3A00%3A00']\n",
    "\n",
    "# Comedian names\n",
    "webpage = ['opentable']"
   ]
  },
  {
   "cell_type": "code",
   "execution_count": 2,
   "id": "df3b520d",
   "metadata": {},
   "outputs": [
    {
     "name": "stdout",
     "output_type": "stream",
     "text": [
      "https://www.opentable.com/r/piatti-san-antonio?corrid=4cec5420-b025-46d0-9c85-c7593b9a80fb&avt=eyJ2IjoyLCJtIjowLCJwIjowLCJzIjowLCJuIjowfQ&p=2&sd=2022-05-31T21%3A00%3A00\n"
     ]
    }
   ],
   "source": [
    "# Actually request transcripts (takes a few minutes to run)\n",
    "transcripts = [url_to_transcript(u) for u in urls]"
   ]
  },
  {
   "cell_type": "code",
   "execution_count": 3,
   "id": "e332b1d9",
   "metadata": {},
   "outputs": [
    {
     "name": "stderr",
     "output_type": "stream",
     "text": [
      "A subdirectory or file transcripts already exists.\n"
     ]
    }
   ],
   "source": [
    "# Pickle files for later use\n",
    "\n",
    "# Make a new directory to hold the text files\n",
    "!mkdir transcripts\n",
    "\n",
    "for i, c in enumerate(webpage):\n",
    "    with open(\"transcripts/\" + c + \".txt\", \"wb\") as file:\n",
    "        pickle.dump(transcripts[i], file)"
   ]
  },
  {
   "cell_type": "code",
   "execution_count": 4,
   "id": "85cf406c",
   "metadata": {},
   "outputs": [],
   "source": [
    "# Load pickled files\n",
    "data = {}\n",
    "for i, c in enumerate(webpage):\n",
    "    with open(\"transcripts/\" + c + \".txt\", \"rb\") as file:\n",
    "        data[c] = pickle.load(file)"
   ]
  },
  {
   "cell_type": "code",
   "execution_count": 5,
   "id": "aca4bb0d",
   "metadata": {},
   "outputs": [
    {
     "data": {
      "text/plain": [
       "dict_keys(['opentable'])"
      ]
     },
     "execution_count": 5,
     "metadata": {},
     "output_type": "execute_result"
    }
   ],
   "source": [
    "# Double check to make sure data has been loaded properly\n",
    "data.keys()"
   ]
  },
  {
   "cell_type": "code",
   "execution_count": 6,
   "id": "a10fed9d",
   "metadata": {},
   "outputs": [
    {
     "data": {
      "text/plain": [
       "[\"Very loud, then we ordered what was on the menu, but when the food arrived some of it was not included in our order... When we asked the why question,  we were told that corporate had changed the menu but they didn't have time to update the menu just yet, so those items were not included in what we just ordered... What?!  We insisted that we should receive what we had ordered, and what was shown on the menu, so they relented and brought the items, but of course it was later, more than half way through our meal.  The wait person told us we were not the only table to complain.  Also, there is a 3% surcharge added to your bill on top of everything else, for issues pertaining to staffing, etc... What?!\\nSeems the restaurant is trying to make a point about the Byedan regime, but left a sour taste in our mouth.  The surcharge reference is clearly printed on the menu at the bottom, and they also make a point of stating it is NOT gratuity... Why wouldn't you just include the additional cost in the menu items?  Again, seems they want to make a very blatant statement about the state of things.  On the flip side, the food we received was good.  As with everything else, Piatti's was not 100% on their game, and we will wait a while before we recommend or go back.  When you're spending over one hundred dollars for 3 people on lunch, with one of them only eating an appetizer, and only 2 glasses of wine, you should expect near perfection... IMHO.\",\n",
       " 'Food was delicious. Service was wonderful. One of our favorite restaurants.',\n",
       " 'I ordered a chicken panini and it was not good. The chicken was dry so I only ate less the half of it. There were flies buzzing all around us (and we were seated inside). We will not be coming back anytime soon.',\n",
       " 'Outstanding service. Great atmosphere and terrific good. My Old Fashioned from the bar was excellent too.',\n",
       " 'Celebrated My friend’s birthday and the two of us had a lovely dinner. Food and service were excellent as usual.',\n",
       " 'Went for lunch. Increased prices and no lunch specials make it a less appealing option especially when the food itself is nothing spectacular. The fact they charge for bread now should have been a warning sign. Disappointed too that fresh ground pepper isn’t an option but a dirty pepper shaker is.',\n",
       " 'Birthday dinner for our daughter. Great food; incredible service.  Love Piatti at the Quarry!',\n",
       " 'Food and service was great! The restaurant building needs a little TLC. We asked to be moved because the wall next to the booths we were seated were attracting small little flies. After moving we also notice black mildew on the sealing around the air vents. Not sure if the wet atmosphere caused the flies but it just left a bad impression on us.',\n",
       " 'Very good food. Nice portion size. A bit noisy but comfortable.',\n",
       " 'Amazing food & service. The Chicken Alfredo and Seafood Lasagna were outstanding',\n",
       " 'Mother’s Day',\n",
       " 'Excellent Italian cuisine, superb service! Busy location and busy night, but we had a great experience',\n",
       " 'I had a reservation and was quickly seated. Our server was very pleasant and accommodating. It was Friday lunch so the restaurant was busy. The food was delicious as always. Piatti is always a great experience.',\n",
       " 'Disappointed in that it was my friends B-day and I had advised them both with you in making the reservation and at the door when I arrived.  \\n\\nNo acknowledgement whatsoever.',\n",
       " 'Excellent menu, well prepared and presented food and friendly, efficient service!',\n",
       " 'I have to say, I truly love this restaurant!  I was able to get same day reservations on a Saturday night.  When we got there it was very busy and they had the perfect booth reserved (with a reserved sign) for us.  Very impressed and the service and food were perfect!  While many restaurants are shrinking portion sizes and increasing prices, Piatti is on point and has not gone down that path.  Highly recommend!!!',\n",
       " 'We had awesome service and the food was excellent. The music was a little loud, though. It was very hard to hear the person right across from me.',\n",
       " 'Food was delicious and the service was good. Highly recommend for lunch.',\n",
       " 'Great food & service!',\n",
       " 'Good Food and Good Service. We celebrated Admin. Professionals Day and they made it special for our staff.',\n",
       " 'Not going back till they get rid of the California service charge. \\nThis is Texas and they better get used to it',\n",
       " \"Was too noisy! Couldn't enjoy each other's company. Service was very good. Food took a while to get to us. Was ready to leave right when the food got there. Drinks were pretty good.\",\n",
       " 'Derek was my server while also being the bartender. Service, engagement and interaction were amazing. Definitely recommend Piatti and Derek!!!',\n",
       " 'Food and service were excellent! Happy we were able to scoot in for Easter!',\n",
       " 'Food was not as good as in the past. The service lacked also from previous visits. Restaurant was very busy due to Easter and I believe the experience could have been much better',\n",
       " 'It took our food almost an hour to get. The table that came after us got their food first. We only ordered pasta dishes. Very disappointing since it was our first date night in about 6 months!',\n",
       " 'All red wine needs to be in bigger glasses. Had a very small glass for my wine. Food was spot on tonight!',\n",
       " 'Family get together, the food is awesome as always, service was a bit of a disappointment this time around, never got the waiter’s name and didn’t ask for it either.',\n",
       " \"The food and service was very good as usual! Piatti's is always a hit!\",\n",
       " 'I am never disappointed at Piatti!   The tilapia was excellent with just the right amount of seasoning.',\n",
       " \"Sad. This has been a favorite restaurant of ours for many years. We used to always have great meals here. Unfortunately, tonight was a complete miss. Although only $3.00, they now charge for bread and dipping sauce.\\nMy husband order the chicken parmesan which he stated was good, but the piece of chicken must've been maybe 4 ozs.? Really small piece smothered with lots of pasta. I chose the grilled niman ranch organic 8oz flat iron steak. Flavorless, bland, no seared crispy outside. The sautéed spinach was very good, though, as well as the minimal pieces of Yukon potatoes. For dessert I ordered the lemon tart, which had a tasteless crust and decent lemon custard center.\\nI hope that maybe it was a bad day, and perhaps we just picked the wrong dishes.\",\n",
       " 'Service was good. Bread starter was excellent as were the apps and salads. Cocktails great. Main courses were not great , overcooked pasta, dry sauce, fish soaked in butter and oil with oily pasta that was not appetizing .',\n",
       " \"Great location and great food, staff go's out of there way for excellent service, WE will be back\",\n",
       " \"A...unique take on Italian staples that to me were distracting, and overpowering, and ultimately disappointing. We couldn't eat the food, and I almost always finish my plate when I eat. A server rushed us out even though there were plenty of tables available.\",\n",
       " \"The food was good but not fabulous.  Service excellent (Ethan), and the noise level was moderate because we sat OUTSIDE.  Inside it's very loud.  Outdoor area is very pleasant.\",\n",
       " 'The staff was friendly and the food was excellent. Great experience.',\n",
       " 'Excellent service and good food good people, we will be back',\n",
       " 'I understand it was busy but he could have checked out more on us',\n",
       " 'Very good place for pasta in the Quarry District of San Antonio.  Waiter was very friendly and offered his opinions.  The Ciabatta bread was excellent with a nice olive oil, balsamic and garlic mix.  Wedge and Caesar salads were very good but a little too much dressing g for our liking.   We all had pasta of some sort and it was all really good.   Not 5 stars but a solid 4 and we had a good time.',\n",
       " 'We love coming to Piatti’s on Basse.  Kaylee always greets us and knows our favorite place to sit.  Andrew is such a top rated waiter.  He knows exactly what we want and need.']"
      ]
     },
     "execution_count": 6,
     "metadata": {},
     "output_type": "execute_result"
    }
   ],
   "source": [
    "# More checks\n",
    "data['opentable']"
   ]
  },
  {
   "cell_type": "markdown",
   "id": "7c6f5a84",
   "metadata": {},
   "source": [
    "## Cleaning The Data"
   ]
  },
  {
   "cell_type": "markdown",
   "id": "ac0cbfa3",
   "metadata": {},
   "source": [
    "Common data cleaning steps on all text:\n",
    "\n",
    "    *Make text all lower case\n",
    "    *Remove punctuation\n",
    "    *Remove numerical values\n",
    "    *Remove common non-sensical text (/n)\n",
    "    *Tokenize text\n",
    "    *Remove stop words"
   ]
  },
  {
   "cell_type": "code",
   "execution_count": 9,
   "id": "2faa6952",
   "metadata": {},
   "outputs": [
    {
     "data": {
      "text/plain": [
       "'opentable'"
      ]
     },
     "execution_count": 9,
     "metadata": {},
     "output_type": "execute_result"
    }
   ],
   "source": [
    "# Let's take a look at our data again\n",
    "next(iter(data.keys()))"
   ]
  },
  {
   "cell_type": "code",
   "execution_count": 10,
   "id": "2a9ae86f",
   "metadata": {},
   "outputs": [
    {
     "data": {
      "text/plain": [
       "[\"Very loud, then we ordered what was on the menu, but when the food arrived some of it was not included in our order... When we asked the why question,  we were told that corporate had changed the menu but they didn't have time to update the menu just yet, so those items were not included in what we just ordered... What?!  We insisted that we should receive what we had ordered, and what was shown on the menu, so they relented and brought the items, but of course it was later, more than half way through our meal.  The wait person told us we were not the only table to complain.  Also, there is a 3% surcharge added to your bill on top of everything else, for issues pertaining to staffing, etc... What?!\\nSeems the restaurant is trying to make a point about the Byedan regime, but left a sour taste in our mouth.  The surcharge reference is clearly printed on the menu at the bottom, and they also make a point of stating it is NOT gratuity... Why wouldn't you just include the additional cost in the menu items?  Again, seems they want to make a very blatant statement about the state of things.  On the flip side, the food we received was good.  As with everything else, Piatti's was not 100% on their game, and we will wait a while before we recommend or go back.  When you're spending over one hundred dollars for 3 people on lunch, with one of them only eating an appetizer, and only 2 glasses of wine, you should expect near perfection... IMHO.\",\n",
       " 'Food was delicious. Service was wonderful. One of our favorite restaurants.',\n",
       " 'I ordered a chicken panini and it was not good. The chicken was dry so I only ate less the half of it. There were flies buzzing all around us (and we were seated inside). We will not be coming back anytime soon.',\n",
       " 'Outstanding service. Great atmosphere and terrific good. My Old Fashioned from the bar was excellent too.',\n",
       " 'Celebrated My friend’s birthday and the two of us had a lovely dinner. Food and service were excellent as usual.',\n",
       " 'Went for lunch. Increased prices and no lunch specials make it a less appealing option especially when the food itself is nothing spectacular. The fact they charge for bread now should have been a warning sign. Disappointed too that fresh ground pepper isn’t an option but a dirty pepper shaker is.',\n",
       " 'Birthday dinner for our daughter. Great food; incredible service.  Love Piatti at the Quarry!',\n",
       " 'Food and service was great! The restaurant building needs a little TLC. We asked to be moved because the wall next to the booths we were seated were attracting small little flies. After moving we also notice black mildew on the sealing around the air vents. Not sure if the wet atmosphere caused the flies but it just left a bad impression on us.',\n",
       " 'Very good food. Nice portion size. A bit noisy but comfortable.',\n",
       " 'Amazing food & service. The Chicken Alfredo and Seafood Lasagna were outstanding',\n",
       " 'Mother’s Day',\n",
       " 'Excellent Italian cuisine, superb service! Busy location and busy night, but we had a great experience',\n",
       " 'I had a reservation and was quickly seated. Our server was very pleasant and accommodating. It was Friday lunch so the restaurant was busy. The food was delicious as always. Piatti is always a great experience.',\n",
       " 'Disappointed in that it was my friends B-day and I had advised them both with you in making the reservation and at the door when I arrived.  \\n\\nNo acknowledgement whatsoever.',\n",
       " 'Excellent menu, well prepared and presented food and friendly, efficient service!',\n",
       " 'I have to say, I truly love this restaurant!  I was able to get same day reservations on a Saturday night.  When we got there it was very busy and they had the perfect booth reserved (with a reserved sign) for us.  Very impressed and the service and food were perfect!  While many restaurants are shrinking portion sizes and increasing prices, Piatti is on point and has not gone down that path.  Highly recommend!!!',\n",
       " 'We had awesome service and the food was excellent. The music was a little loud, though. It was very hard to hear the person right across from me.',\n",
       " 'Food was delicious and the service was good. Highly recommend for lunch.',\n",
       " 'Great food & service!',\n",
       " 'Good Food and Good Service. We celebrated Admin. Professionals Day and they made it special for our staff.',\n",
       " 'Not going back till they get rid of the California service charge. \\nThis is Texas and they better get used to it',\n",
       " \"Was too noisy! Couldn't enjoy each other's company. Service was very good. Food took a while to get to us. Was ready to leave right when the food got there. Drinks were pretty good.\",\n",
       " 'Derek was my server while also being the bartender. Service, engagement and interaction were amazing. Definitely recommend Piatti and Derek!!!',\n",
       " 'Food and service were excellent! Happy we were able to scoot in for Easter!',\n",
       " 'Food was not as good as in the past. The service lacked also from previous visits. Restaurant was very busy due to Easter and I believe the experience could have been much better',\n",
       " 'It took our food almost an hour to get. The table that came after us got their food first. We only ordered pasta dishes. Very disappointing since it was our first date night in about 6 months!',\n",
       " 'All red wine needs to be in bigger glasses. Had a very small glass for my wine. Food was spot on tonight!',\n",
       " 'Family get together, the food is awesome as always, service was a bit of a disappointment this time around, never got the waiter’s name and didn’t ask for it either.',\n",
       " \"The food and service was very good as usual! Piatti's is always a hit!\",\n",
       " 'I am never disappointed at Piatti!   The tilapia was excellent with just the right amount of seasoning.',\n",
       " \"Sad. This has been a favorite restaurant of ours for many years. We used to always have great meals here. Unfortunately, tonight was a complete miss. Although only $3.00, they now charge for bread and dipping sauce.\\nMy husband order the chicken parmesan which he stated was good, but the piece of chicken must've been maybe 4 ozs.? Really small piece smothered with lots of pasta. I chose the grilled niman ranch organic 8oz flat iron steak. Flavorless, bland, no seared crispy outside. The sautéed spinach was very good, though, as well as the minimal pieces of Yukon potatoes. For dessert I ordered the lemon tart, which had a tasteless crust and decent lemon custard center.\\nI hope that maybe it was a bad day, and perhaps we just picked the wrong dishes.\",\n",
       " 'Service was good. Bread starter was excellent as were the apps and salads. Cocktails great. Main courses were not great , overcooked pasta, dry sauce, fish soaked in butter and oil with oily pasta that was not appetizing .',\n",
       " \"Great location and great food, staff go's out of there way for excellent service, WE will be back\",\n",
       " \"A...unique take on Italian staples that to me were distracting, and overpowering, and ultimately disappointing. We couldn't eat the food, and I almost always finish my plate when I eat. A server rushed us out even though there were plenty of tables available.\",\n",
       " \"The food was good but not fabulous.  Service excellent (Ethan), and the noise level was moderate because we sat OUTSIDE.  Inside it's very loud.  Outdoor area is very pleasant.\",\n",
       " 'The staff was friendly and the food was excellent. Great experience.',\n",
       " 'Excellent service and good food good people, we will be back',\n",
       " 'I understand it was busy but he could have checked out more on us',\n",
       " 'Very good place for pasta in the Quarry District of San Antonio.  Waiter was very friendly and offered his opinions.  The Ciabatta bread was excellent with a nice olive oil, balsamic and garlic mix.  Wedge and Caesar salads were very good but a little too much dressing g for our liking.   We all had pasta of some sort and it was all really good.   Not 5 stars but a solid 4 and we had a good time.',\n",
       " 'We love coming to Piatti’s on Basse.  Kaylee always greets us and knows our favorite place to sit.  Andrew is such a top rated waiter.  He knows exactly what we want and need.']"
      ]
     },
     "execution_count": 10,
     "metadata": {},
     "output_type": "execute_result"
    }
   ],
   "source": [
    "# Notice that our dictionary is currently in key: comedian, value: list of text format\n",
    "next(iter(data.values()))"
   ]
  },
  {
   "cell_type": "code",
   "execution_count": 11,
   "id": "c95d155a",
   "metadata": {},
   "outputs": [],
   "source": [
    "def combine_text(list_of_text):\n",
    "    # Takes a list of text and combines them into one large chunk of text.\n",
    "    combined_text = ' '.join(list_of_text)\n",
    "    return combined_text"
   ]
  },
  {
   "cell_type": "code",
   "execution_count": 12,
   "id": "018ac393",
   "metadata": {},
   "outputs": [],
   "source": [
    "# We are going to change this to key: webpage, value: string format\n",
    "data_combined = {key: [combine_text(value)] for (key, value) in data.items()}"
   ]
  },
  {
   "cell_type": "code",
   "execution_count": 13,
   "id": "b303e8ab",
   "metadata": {},
   "outputs": [
    {
     "data": {
      "text/html": [
       "<div>\n",
       "<style scoped>\n",
       "    .dataframe tbody tr th:only-of-type {\n",
       "        vertical-align: middle;\n",
       "    }\n",
       "\n",
       "    .dataframe tbody tr th {\n",
       "        vertical-align: top;\n",
       "    }\n",
       "\n",
       "    .dataframe thead th {\n",
       "        text-align: right;\n",
       "    }\n",
       "</style>\n",
       "<table border=\"1\" class=\"dataframe\">\n",
       "  <thead>\n",
       "    <tr style=\"text-align: right;\">\n",
       "      <th></th>\n",
       "      <th>transcript</th>\n",
       "    </tr>\n",
       "  </thead>\n",
       "  <tbody>\n",
       "    <tr>\n",
       "      <th>opentable</th>\n",
       "      <td>Very loud, then we ordered what was on the menu, but when the food arrived some of it was not included in our order... When we asked the why quest...</td>\n",
       "    </tr>\n",
       "  </tbody>\n",
       "</table>\n",
       "</div>"
      ],
      "text/plain": [
       "                                                                                                                                                      transcript\n",
       "opentable  Very loud, then we ordered what was on the menu, but when the food arrived some of it was not included in our order... When we asked the why quest..."
      ]
     },
     "execution_count": 13,
     "metadata": {},
     "output_type": "execute_result"
    }
   ],
   "source": [
    "# put it into a pandas dataframe\n",
    "import pandas as pd\n",
    "pd.set_option('max_colwidth',150)\n",
    "\n",
    "data_df = pd.DataFrame.from_dict(data_combined).transpose()\n",
    "data_df.columns = ['transcript']\n",
    "data_df = data_df.sort_index()\n",
    "data_df"
   ]
  },
  {
   "cell_type": "code",
   "execution_count": 14,
   "id": "3eefb4e2",
   "metadata": {},
   "outputs": [
    {
     "data": {
      "text/plain": [
       "\"Very loud, then we ordered what was on the menu, but when the food arrived some of it was not included in our order... When we asked the why question,  we were told that corporate had changed the menu but they didn't have time to update the menu just yet, so those items were not included in what we just ordered... What?!  We insisted that we should receive what we had ordered, and what was shown on the menu, so they relented and brought the items, but of course it was later, more than half way through our meal.  The wait person told us we were not the only table to complain.  Also, there is a 3% surcharge added to your bill on top of everything else, for issues pertaining to staffing, etc... What?!\\nSeems the restaurant is trying to make a point about the Byedan regime, but left a sour taste in our mouth.  The surcharge reference is clearly printed on the menu at the bottom, and they also make a point of stating it is NOT gratuity... Why wouldn't you just include the additional cost in the menu items?  Again, seems they want to make a very blatant statement about the state of things.  On the flip side, the food we received was good.  As with everything else, Piatti's was not 100% on their game, and we will wait a while before we recommend or go back.  When you're spending over one hundred dollars for 3 people on lunch, with one of them only eating an appetizer, and only 2 glasses of wine, you should expect near perfection... IMHO. Food was delicious. Service was wonderful. One of our favorite restaurants. I ordered a chicken panini and it was not good. The chicken was dry so I only ate less the half of it. There were flies buzzing all around us (and we were seated inside). We will not be coming back anytime soon. Outstanding service. Great atmosphere and terrific good. My Old Fashioned from the bar was excellent too. Celebrated My friend’s birthday and the two of us had a lovely dinner. Food and service were excellent as usual. Went for lunch. Increased prices and no lunch specials make it a less appealing option especially when the food itself is nothing spectacular. The fact they charge for bread now should have been a warning sign. Disappointed too that fresh ground pepper isn’t an option but a dirty pepper shaker is. Birthday dinner for our daughter. Great food; incredible service.  Love Piatti at the Quarry! Food and service was great! The restaurant building needs a little TLC. We asked to be moved because the wall next to the booths we were seated were attracting small little flies. After moving we also notice black mildew on the sealing around the air vents. Not sure if the wet atmosphere caused the flies but it just left a bad impression on us. Very good food. Nice portion size. A bit noisy but comfortable. Amazing food & service. The Chicken Alfredo and Seafood Lasagna were outstanding Mother’s Day Excellent Italian cuisine, superb service! Busy location and busy night, but we had a great experience I had a reservation and was quickly seated. Our server was very pleasant and accommodating. It was Friday lunch so the restaurant was busy. The food was delicious as always. Piatti is always a great experience. Disappointed in that it was my friends B-day and I had advised them both with you in making the reservation and at the door when I arrived.  \\n\\nNo acknowledgement whatsoever. Excellent menu, well prepared and presented food and friendly, efficient service! I have to say, I truly love this restaurant!  I was able to get same day reservations on a Saturday night.  When we got there it was very busy and they had the perfect booth reserved (with a reserved sign) for us.  Very impressed and the service and food were perfect!  While many restaurants are shrinking portion sizes and increasing prices, Piatti is on point and has not gone down that path.  Highly recommend!!! We had awesome service and the food was excellent. The music was a little loud, though. It was very hard to hear the person right across from me. Food was delicious and the service was good. Highly recommend for lunch. Great food & service! Good Food and Good Service. We celebrated Admin. Professionals Day and they made it special for our staff. Not going back till they get rid of the California service charge. \\nThis is Texas and they better get used to it Was too noisy! Couldn't enjoy each other's company. Service was very good. Food took a while to get to us. Was ready to leave right when the food got there. Drinks were pretty good. Derek was my server while also being the bartender. Service, engagement and interaction were amazing. Definitely recommend Piatti and Derek!!! Food and service were excellent! Happy we were able to scoot in for Easter! Food was not as good as in the past. The service lacked also from previous visits. Restaurant was very busy due to Easter and I believe the experience could have been much better It took our food almost an hour to get. The table that came after us got their food first. We only ordered pasta dishes. Very disappointing since it was our first date night in about 6 months! All red wine needs to be in bigger glasses. Had a very small glass for my wine. Food was spot on tonight! Family get together, the food is awesome as always, service was a bit of a disappointment this time around, never got the waiter’s name and didn’t ask for it either. The food and service was very good as usual! Piatti's is always a hit! I am never disappointed at Piatti!   The tilapia was excellent with just the right amount of seasoning. Sad. This has been a favorite restaurant of ours for many years. We used to always have great meals here. Unfortunately, tonight was a complete miss. Although only $3.00, they now charge for bread and dipping sauce.\\nMy husband order the chicken parmesan which he stated was good, but the piece of chicken must've been maybe 4 ozs.? Really small piece smothered with lots of pasta. I chose the grilled niman ranch organic 8oz flat iron steak. Flavorless, bland, no seared crispy outside. The sautéed spinach was very good, though, as well as the minimal pieces of Yukon potatoes. For dessert I ordered the lemon tart, which had a tasteless crust and decent lemon custard center.\\nI hope that maybe it was a bad day, and perhaps we just picked the wrong dishes. Service was good. Bread starter was excellent as were the apps and salads. Cocktails great. Main courses were not great , overcooked pasta, dry sauce, fish soaked in butter and oil with oily pasta that was not appetizing . Great location and great food, staff go's out of there way for excellent service, WE will be back A...unique take on Italian staples that to me were distracting, and overpowering, and ultimately disappointing. We couldn't eat the food, and I almost always finish my plate when I eat. A server rushed us out even though there were plenty of tables available. The food was good but not fabulous.  Service excellent (Ethan), and the noise level was moderate because we sat OUTSIDE.  Inside it's very loud.  Outdoor area is very pleasant. The staff was friendly and the food was excellent. Great experience. Excellent service and good food good people, we will be back I understand it was busy but he could have checked out more on us Very good place for pasta in the Quarry District of San Antonio.  Waiter was very friendly and offered his opinions.  The Ciabatta bread was excellent with a nice olive oil, balsamic and garlic mix.  Wedge and Caesar salads were very good but a little too much dressing g for our liking.   We all had pasta of some sort and it was all really good.   Not 5 stars but a solid 4 and we had a good time. We love coming to Piatti’s on Basse.  Kaylee always greets us and knows our favorite place to sit.  Andrew is such a top rated waiter.  He knows exactly what we want and need.\""
      ]
     },
     "execution_count": 14,
     "metadata": {},
     "output_type": "execute_result"
    }
   ],
   "source": [
    "# Let's take a look at the transcript for opentable\n",
    "data_df.transcript.loc['opentable']"
   ]
  },
  {
   "cell_type": "code",
   "execution_count": 15,
   "id": "7b7eac64",
   "metadata": {},
   "outputs": [],
   "source": [
    "# Apply a first round of text cleaning techniques\n",
    "import re\n",
    "import string\n",
    "\n",
    "def clean_text_round1(text):\n",
    "    # Make text lowercase, remove punctuation and remove words containing numbers.\n",
    "    text = text.lower()\n",
    "    text = re.sub('[%s]' % re.escape(string.punctuation), '', text)\n",
    "    text = re.sub('\\w*\\d\\w*', '', text)\n",
    "    return text\n",
    "\n",
    "round1 = lambda x: clean_text_round1(x)"
   ]
  },
  {
   "cell_type": "code",
   "execution_count": 16,
   "id": "0f11be19",
   "metadata": {},
   "outputs": [
    {
     "data": {
      "text/html": [
       "<div>\n",
       "<style scoped>\n",
       "    .dataframe tbody tr th:only-of-type {\n",
       "        vertical-align: middle;\n",
       "    }\n",
       "\n",
       "    .dataframe tbody tr th {\n",
       "        vertical-align: top;\n",
       "    }\n",
       "\n",
       "    .dataframe thead th {\n",
       "        text-align: right;\n",
       "    }\n",
       "</style>\n",
       "<table border=\"1\" class=\"dataframe\">\n",
       "  <thead>\n",
       "    <tr style=\"text-align: right;\">\n",
       "      <th></th>\n",
       "      <th>transcript</th>\n",
       "    </tr>\n",
       "  </thead>\n",
       "  <tbody>\n",
       "    <tr>\n",
       "      <th>opentable</th>\n",
       "      <td>very loud then we ordered what was on the menu but when the food arrived some of it was not included in our order when we asked the why question  ...</td>\n",
       "    </tr>\n",
       "  </tbody>\n",
       "</table>\n",
       "</div>"
      ],
      "text/plain": [
       "                                                                                                                                                      transcript\n",
       "opentable  very loud then we ordered what was on the menu but when the food arrived some of it was not included in our order when we asked the why question  ..."
      ]
     },
     "execution_count": 16,
     "metadata": {},
     "output_type": "execute_result"
    }
   ],
   "source": [
    "# Let's take a look at the updated text\n",
    "data_clean = pd.DataFrame(data_df.transcript.apply(round1))\n",
    "data_clean"
   ]
  },
  {
   "cell_type": "code",
   "execution_count": 18,
   "id": "6f76eee0",
   "metadata": {},
   "outputs": [
    {
     "data": {
      "text/plain": [
       "'very loud then we ordered what was on the menu but when the food arrived some of it was not included in our order when we asked the why question  we were told that corporate had changed the menu but they didnt have time to update the menu just yet so those items were not included in what we just ordered what  we insisted that we should receive what we had ordered and what was shown on the menu so they relented and brought the items but of course it was later more than half way through our meal  the wait person told us we were not the only table to complain  also there is a  surcharge added to your bill on top of everything else for issues pertaining to staffing etc what\\nseems the restaurant is trying to make a point about the byedan regime but left a sour taste in our mouth  the surcharge reference is clearly printed on the menu at the bottom and they also make a point of stating it is not gratuity why wouldnt you just include the additional cost in the menu items  again seems they want to make a very blatant statement about the state of things  on the flip side the food we received was good  as with everything else piattis was not  on their game and we will wait a while before we recommend or go back  when youre spending over one hundred dollars for  people on lunch with one of them only eating an appetizer and only  glasses of wine you should expect near perfection imho food was delicious service was wonderful one of our favorite restaurants i ordered a chicken panini and it was not good the chicken was dry so i only ate less the half of it there were flies buzzing all around us and we were seated inside we will not be coming back anytime soon outstanding service great atmosphere and terrific good my old fashioned from the bar was excellent too celebrated my friend’s birthday and the two of us had a lovely dinner food and service were excellent as usual went for lunch increased prices and no lunch specials make it a less appealing option especially when the food itself is nothing spectacular the fact they charge for bread now should have been a warning sign disappointed too that fresh ground pepper isn’t an option but a dirty pepper shaker is birthday dinner for our daughter great food incredible service  love piatti at the quarry food and service was great the restaurant building needs a little tlc we asked to be moved because the wall next to the booths we were seated were attracting small little flies after moving we also notice black mildew on the sealing around the air vents not sure if the wet atmosphere caused the flies but it just left a bad impression on us very good food nice portion size a bit noisy but comfortable amazing food  service the chicken alfredo and seafood lasagna were outstanding mother’s day excellent italian cuisine superb service busy location and busy night but we had a great experience i had a reservation and was quickly seated our server was very pleasant and accommodating it was friday lunch so the restaurant was busy the food was delicious as always piatti is always a great experience disappointed in that it was my friends bday and i had advised them both with you in making the reservation and at the door when i arrived  \\n\\nno acknowledgement whatsoever excellent menu well prepared and presented food and friendly efficient service i have to say i truly love this restaurant  i was able to get same day reservations on a saturday night  when we got there it was very busy and they had the perfect booth reserved with a reserved sign for us  very impressed and the service and food were perfect  while many restaurants are shrinking portion sizes and increasing prices piatti is on point and has not gone down that path  highly recommend we had awesome service and the food was excellent the music was a little loud though it was very hard to hear the person right across from me food was delicious and the service was good highly recommend for lunch great food  service good food and good service we celebrated admin professionals day and they made it special for our staff not going back till they get rid of the california service charge \\nthis is texas and they better get used to it was too noisy couldnt enjoy each others company service was very good food took a while to get to us was ready to leave right when the food got there drinks were pretty good derek was my server while also being the bartender service engagement and interaction were amazing definitely recommend piatti and derek food and service were excellent happy we were able to scoot in for easter food was not as good as in the past the service lacked also from previous visits restaurant was very busy due to easter and i believe the experience could have been much better it took our food almost an hour to get the table that came after us got their food first we only ordered pasta dishes very disappointing since it was our first date night in about  months all red wine needs to be in bigger glasses had a very small glass for my wine food was spot on tonight family get together the food is awesome as always service was a bit of a disappointment this time around never got the waiter’s name and didn’t ask for it either the food and service was very good as usual piattis is always a hit i am never disappointed at piatti   the tilapia was excellent with just the right amount of seasoning sad this has been a favorite restaurant of ours for many years we used to always have great meals here unfortunately tonight was a complete miss although only  they now charge for bread and dipping sauce\\nmy husband order the chicken parmesan which he stated was good but the piece of chicken mustve been maybe  ozs really small piece smothered with lots of pasta i chose the grilled niman ranch organic  flat iron steak flavorless bland no seared crispy outside the sautéed spinach was very good though as well as the minimal pieces of yukon potatoes for dessert i ordered the lemon tart which had a tasteless crust and decent lemon custard center\\ni hope that maybe it was a bad day and perhaps we just picked the wrong dishes service was good bread starter was excellent as were the apps and salads cocktails great main courses were not great  overcooked pasta dry sauce fish soaked in butter and oil with oily pasta that was not appetizing  great location and great food staff gos out of there way for excellent service we will be back aunique take on italian staples that to me were distracting and overpowering and ultimately disappointing we couldnt eat the food and i almost always finish my plate when i eat a server rushed us out even though there were plenty of tables available the food was good but not fabulous  service excellent ethan and the noise level was moderate because we sat outside  inside its very loud  outdoor area is very pleasant the staff was friendly and the food was excellent great experience excellent service and good food good people we will be back i understand it was busy but he could have checked out more on us very good place for pasta in the quarry district of san antonio  waiter was very friendly and offered his opinions  the ciabatta bread was excellent with a nice olive oil balsamic and garlic mix  wedge and caesar salads were very good but a little too much dressing g for our liking   we all had pasta of some sort and it was all really good   not  stars but a solid  and we had a good time we love coming to piatti’s on basse  kaylee always greets us and knows our favorite place to sit  andrew is such a top rated waiter  he knows exactly what we want and need'"
      ]
     },
     "execution_count": 18,
     "metadata": {},
     "output_type": "execute_result"
    }
   ],
   "source": [
    "data_clean.transcript.loc['opentable']"
   ]
  },
  {
   "cell_type": "code",
   "execution_count": 19,
   "id": "80595975",
   "metadata": {},
   "outputs": [],
   "source": [
    "# Apply a second round of cleaning\n",
    "def clean_text_round2(text):\n",
    "    # Get rid of some additional punctuation and non-sensical text that was missed the first time around.\n",
    "    text = re.sub('[‘’“”…]', '', text)\n",
    "    text = re.sub('\\n', '', text)\n",
    "    return text\n",
    "\n",
    "round2 = lambda x: clean_text_round2(x)"
   ]
  },
  {
   "cell_type": "code",
   "execution_count": 20,
   "id": "4e2ca349",
   "metadata": {},
   "outputs": [
    {
     "data": {
      "text/html": [
       "<div>\n",
       "<style scoped>\n",
       "    .dataframe tbody tr th:only-of-type {\n",
       "        vertical-align: middle;\n",
       "    }\n",
       "\n",
       "    .dataframe tbody tr th {\n",
       "        vertical-align: top;\n",
       "    }\n",
       "\n",
       "    .dataframe thead th {\n",
       "        text-align: right;\n",
       "    }\n",
       "</style>\n",
       "<table border=\"1\" class=\"dataframe\">\n",
       "  <thead>\n",
       "    <tr style=\"text-align: right;\">\n",
       "      <th></th>\n",
       "      <th>transcript</th>\n",
       "    </tr>\n",
       "  </thead>\n",
       "  <tbody>\n",
       "    <tr>\n",
       "      <th>opentable</th>\n",
       "      <td>very loud then we ordered what was on the menu but when the food arrived some of it was not included in our order when we asked the why question  ...</td>\n",
       "    </tr>\n",
       "  </tbody>\n",
       "</table>\n",
       "</div>"
      ],
      "text/plain": [
       "                                                                                                                                                      transcript\n",
       "opentable  very loud then we ordered what was on the menu but when the food arrived some of it was not included in our order when we asked the why question  ..."
      ]
     },
     "execution_count": 20,
     "metadata": {},
     "output_type": "execute_result"
    }
   ],
   "source": [
    "# Let's take a look at the second round of updated text\n",
    "data_clean = pd.DataFrame(data_clean.transcript.apply(round2))\n",
    "data_clean"
   ]
  },
  {
   "cell_type": "code",
   "execution_count": 21,
   "id": "00dfffd9",
   "metadata": {},
   "outputs": [
    {
     "data": {
      "text/plain": [
       "'very loud then we ordered what was on the menu but when the food arrived some of it was not included in our order when we asked the why question  we were told that corporate had changed the menu but they didnt have time to update the menu just yet so those items were not included in what we just ordered what  we insisted that we should receive what we had ordered and what was shown on the menu so they relented and brought the items but of course it was later more than half way through our meal  the wait person told us we were not the only table to complain  also there is a  surcharge added to your bill on top of everything else for issues pertaining to staffing etc whatseems the restaurant is trying to make a point about the byedan regime but left a sour taste in our mouth  the surcharge reference is clearly printed on the menu at the bottom and they also make a point of stating it is not gratuity why wouldnt you just include the additional cost in the menu items  again seems they want to make a very blatant statement about the state of things  on the flip side the food we received was good  as with everything else piattis was not  on their game and we will wait a while before we recommend or go back  when youre spending over one hundred dollars for  people on lunch with one of them only eating an appetizer and only  glasses of wine you should expect near perfection imho food was delicious service was wonderful one of our favorite restaurants i ordered a chicken panini and it was not good the chicken was dry so i only ate less the half of it there were flies buzzing all around us and we were seated inside we will not be coming back anytime soon outstanding service great atmosphere and terrific good my old fashioned from the bar was excellent too celebrated my friends birthday and the two of us had a lovely dinner food and service were excellent as usual went for lunch increased prices and no lunch specials make it a less appealing option especially when the food itself is nothing spectacular the fact they charge for bread now should have been a warning sign disappointed too that fresh ground pepper isnt an option but a dirty pepper shaker is birthday dinner for our daughter great food incredible service  love piatti at the quarry food and service was great the restaurant building needs a little tlc we asked to be moved because the wall next to the booths we were seated were attracting small little flies after moving we also notice black mildew on the sealing around the air vents not sure if the wet atmosphere caused the flies but it just left a bad impression on us very good food nice portion size a bit noisy but comfortable amazing food  service the chicken alfredo and seafood lasagna were outstanding mothers day excellent italian cuisine superb service busy location and busy night but we had a great experience i had a reservation and was quickly seated our server was very pleasant and accommodating it was friday lunch so the restaurant was busy the food was delicious as always piatti is always a great experience disappointed in that it was my friends bday and i had advised them both with you in making the reservation and at the door when i arrived  no acknowledgement whatsoever excellent menu well prepared and presented food and friendly efficient service i have to say i truly love this restaurant  i was able to get same day reservations on a saturday night  when we got there it was very busy and they had the perfect booth reserved with a reserved sign for us  very impressed and the service and food were perfect  while many restaurants are shrinking portion sizes and increasing prices piatti is on point and has not gone down that path  highly recommend we had awesome service and the food was excellent the music was a little loud though it was very hard to hear the person right across from me food was delicious and the service was good highly recommend for lunch great food  service good food and good service we celebrated admin professionals day and they made it special for our staff not going back till they get rid of the california service charge this is texas and they better get used to it was too noisy couldnt enjoy each others company service was very good food took a while to get to us was ready to leave right when the food got there drinks were pretty good derek was my server while also being the bartender service engagement and interaction were amazing definitely recommend piatti and derek food and service were excellent happy we were able to scoot in for easter food was not as good as in the past the service lacked also from previous visits restaurant was very busy due to easter and i believe the experience could have been much better it took our food almost an hour to get the table that came after us got their food first we only ordered pasta dishes very disappointing since it was our first date night in about  months all red wine needs to be in bigger glasses had a very small glass for my wine food was spot on tonight family get together the food is awesome as always service was a bit of a disappointment this time around never got the waiters name and didnt ask for it either the food and service was very good as usual piattis is always a hit i am never disappointed at piatti   the tilapia was excellent with just the right amount of seasoning sad this has been a favorite restaurant of ours for many years we used to always have great meals here unfortunately tonight was a complete miss although only  they now charge for bread and dipping saucemy husband order the chicken parmesan which he stated was good but the piece of chicken mustve been maybe  ozs really small piece smothered with lots of pasta i chose the grilled niman ranch organic  flat iron steak flavorless bland no seared crispy outside the sautéed spinach was very good though as well as the minimal pieces of yukon potatoes for dessert i ordered the lemon tart which had a tasteless crust and decent lemon custard centeri hope that maybe it was a bad day and perhaps we just picked the wrong dishes service was good bread starter was excellent as were the apps and salads cocktails great main courses were not great  overcooked pasta dry sauce fish soaked in butter and oil with oily pasta that was not appetizing  great location and great food staff gos out of there way for excellent service we will be back aunique take on italian staples that to me were distracting and overpowering and ultimately disappointing we couldnt eat the food and i almost always finish my plate when i eat a server rushed us out even though there were plenty of tables available the food was good but not fabulous  service excellent ethan and the noise level was moderate because we sat outside  inside its very loud  outdoor area is very pleasant the staff was friendly and the food was excellent great experience excellent service and good food good people we will be back i understand it was busy but he could have checked out more on us very good place for pasta in the quarry district of san antonio  waiter was very friendly and offered his opinions  the ciabatta bread was excellent with a nice olive oil balsamic and garlic mix  wedge and caesar salads were very good but a little too much dressing g for our liking   we all had pasta of some sort and it was all really good   not  stars but a solid  and we had a good time we love coming to piattis on basse  kaylee always greets us and knows our favorite place to sit  andrew is such a top rated waiter  he knows exactly what we want and need'"
      ]
     },
     "execution_count": 21,
     "metadata": {},
     "output_type": "execute_result"
    }
   ],
   "source": [
    "data_clean.transcript.loc['opentable']"
   ]
  },
  {
   "cell_type": "markdown",
   "id": "7c8dc8a6",
   "metadata": {},
   "source": [
    "## Organize The Data"
   ]
  },
  {
   "cell_type": "markdown",
   "id": "4e87fc52",
   "metadata": {},
   "source": [
    "### Corpus"
   ]
  },
  {
   "cell_type": "code",
   "execution_count": 22,
   "id": "7f57fe60",
   "metadata": {},
   "outputs": [
    {
     "data": {
      "text/html": [
       "<div>\n",
       "<style scoped>\n",
       "    .dataframe tbody tr th:only-of-type {\n",
       "        vertical-align: middle;\n",
       "    }\n",
       "\n",
       "    .dataframe tbody tr th {\n",
       "        vertical-align: top;\n",
       "    }\n",
       "\n",
       "    .dataframe thead th {\n",
       "        text-align: right;\n",
       "    }\n",
       "</style>\n",
       "<table border=\"1\" class=\"dataframe\">\n",
       "  <thead>\n",
       "    <tr style=\"text-align: right;\">\n",
       "      <th></th>\n",
       "      <th>transcript</th>\n",
       "    </tr>\n",
       "  </thead>\n",
       "  <tbody>\n",
       "    <tr>\n",
       "      <th>opentable</th>\n",
       "      <td>Very loud, then we ordered what was on the menu, but when the food arrived some of it was not included in our order... When we asked the why quest...</td>\n",
       "    </tr>\n",
       "  </tbody>\n",
       "</table>\n",
       "</div>"
      ],
      "text/plain": [
       "                                                                                                                                                      transcript\n",
       "opentable  Very loud, then we ordered what was on the menu, but when the food arrived some of it was not included in our order... When we asked the why quest..."
      ]
     },
     "execution_count": 22,
     "metadata": {},
     "output_type": "execute_result"
    }
   ],
   "source": [
    "data_df"
   ]
  },
  {
   "cell_type": "code",
   "execution_count": 23,
   "id": "21c84cef",
   "metadata": {},
   "outputs": [
    {
     "data": {
      "text/html": [
       "<div>\n",
       "<style scoped>\n",
       "    .dataframe tbody tr th:only-of-type {\n",
       "        vertical-align: middle;\n",
       "    }\n",
       "\n",
       "    .dataframe tbody tr th {\n",
       "        vertical-align: top;\n",
       "    }\n",
       "\n",
       "    .dataframe thead th {\n",
       "        text-align: right;\n",
       "    }\n",
       "</style>\n",
       "<table border=\"1\" class=\"dataframe\">\n",
       "  <thead>\n",
       "    <tr style=\"text-align: right;\">\n",
       "      <th></th>\n",
       "      <th>transcript</th>\n",
       "      <th>full_name</th>\n",
       "    </tr>\n",
       "  </thead>\n",
       "  <tbody>\n",
       "    <tr>\n",
       "      <th>opentable</th>\n",
       "      <td>Very loud, then we ordered what was on the menu, but when the food arrived some of it was not included in our order... When we asked the why quest...</td>\n",
       "      <td>OpenTable</td>\n",
       "    </tr>\n",
       "  </tbody>\n",
       "</table>\n",
       "</div>"
      ],
      "text/plain": [
       "                                                                                                                                                      transcript  \\\n",
       "opentable  Very loud, then we ordered what was on the menu, but when the food arrived some of it was not included in our order... When we asked the why quest...   \n",
       "\n",
       "           full_name  \n",
       "opentable  OpenTable  "
      ]
     },
     "execution_count": 23,
     "metadata": {},
     "output_type": "execute_result"
    }
   ],
   "source": [
    "# add the webpages' full names as well\n",
    "full_names = ['OpenTable']\n",
    "\n",
    "data_df['full_name'] = full_names\n",
    "data_df"
   ]
  },
  {
   "cell_type": "code",
   "execution_count": 24,
   "id": "d1bd52c4",
   "metadata": {},
   "outputs": [],
   "source": [
    "# pickle it for later use\n",
    "data_df.to_pickle(\"corpus.pkl\")"
   ]
  },
  {
   "cell_type": "markdown",
   "id": "e1afc041",
   "metadata": {},
   "source": [
    "### Document-Term Matrix"
   ]
  },
  {
   "cell_type": "code",
   "execution_count": 26,
   "id": "cd39b810",
   "metadata": {},
   "outputs": [
    {
     "data": {
      "text/html": [
       "<div>\n",
       "<style scoped>\n",
       "    .dataframe tbody tr th:only-of-type {\n",
       "        vertical-align: middle;\n",
       "    }\n",
       "\n",
       "    .dataframe tbody tr th {\n",
       "        vertical-align: top;\n",
       "    }\n",
       "\n",
       "    .dataframe thead th {\n",
       "        text-align: right;\n",
       "    }\n",
       "</style>\n",
       "<table border=\"1\" class=\"dataframe\">\n",
       "  <thead>\n",
       "    <tr style=\"text-align: right;\">\n",
       "      <th></th>\n",
       "      <th>able</th>\n",
       "      <th>accommodating</th>\n",
       "      <th>acknowledgement</th>\n",
       "      <th>added</th>\n",
       "      <th>additional</th>\n",
       "      <th>admin</th>\n",
       "      <th>advised</th>\n",
       "      <th>air</th>\n",
       "      <th>alfredo</th>\n",
       "      <th>amazing</th>\n",
       "      <th>...</th>\n",
       "      <th>wet</th>\n",
       "      <th>whatseems</th>\n",
       "      <th>whatsoever</th>\n",
       "      <th>wine</th>\n",
       "      <th>wonderful</th>\n",
       "      <th>wouldnt</th>\n",
       "      <th>wrong</th>\n",
       "      <th>years</th>\n",
       "      <th>youre</th>\n",
       "      <th>yukon</th>\n",
       "    </tr>\n",
       "  </thead>\n",
       "  <tbody>\n",
       "    <tr>\n",
       "      <th>opentable</th>\n",
       "      <td>2</td>\n",
       "      <td>1</td>\n",
       "      <td>1</td>\n",
       "      <td>1</td>\n",
       "      <td>1</td>\n",
       "      <td>1</td>\n",
       "      <td>1</td>\n",
       "      <td>1</td>\n",
       "      <td>1</td>\n",
       "      <td>2</td>\n",
       "      <td>...</td>\n",
       "      <td>1</td>\n",
       "      <td>1</td>\n",
       "      <td>1</td>\n",
       "      <td>3</td>\n",
       "      <td>1</td>\n",
       "      <td>1</td>\n",
       "      <td>1</td>\n",
       "      <td>1</td>\n",
       "      <td>1</td>\n",
       "      <td>1</td>\n",
       "    </tr>\n",
       "  </tbody>\n",
       "</table>\n",
       "<p>1 rows × 375 columns</p>\n",
       "</div>"
      ],
      "text/plain": [
       "           able  accommodating  acknowledgement  added  additional  admin  \\\n",
       "opentable     2              1                1      1           1      1   \n",
       "\n",
       "           advised  air  alfredo  amazing  ...  wet  whatseems  whatsoever  \\\n",
       "opentable        1    1        1        2  ...    1          1           1   \n",
       "\n",
       "           wine  wonderful  wouldnt  wrong  years  youre  yukon  \n",
       "opentable     3          1        1      1      1      1      1  \n",
       "\n",
       "[1 rows x 375 columns]"
      ]
     },
     "execution_count": 26,
     "metadata": {},
     "output_type": "execute_result"
    }
   ],
   "source": [
    "# We are going to create a document-term matrix using CountVectorizer, and exclude common English stop words\n",
    "from sklearn.feature_extraction.text import CountVectorizer\n",
    "\n",
    "cv = CountVectorizer(stop_words='english')\n",
    "data_cv = cv.fit_transform(data_clean.transcript)\n",
    "data_dtm = pd.DataFrame(data_cv.toarray(), columns=cv.get_feature_names_out())\n",
    "data_dtm.index = data_clean.index\n",
    "data_dtm"
   ]
  },
  {
   "cell_type": "code",
   "execution_count": 27,
   "id": "d5499c5a",
   "metadata": {},
   "outputs": [],
   "source": [
    "# pickle it for later use\n",
    "data_dtm.to_pickle(\"dtm.pkl\")"
   ]
  },
  {
   "cell_type": "code",
   "execution_count": 28,
   "id": "8f7a1d5b",
   "metadata": {},
   "outputs": [],
   "source": [
    "# also pickle the cleaned data (before we put it in document-term matrix format) and the CountVectorizer object\n",
    "data_clean.to_pickle('data_clean.pkl')\n",
    "pickle.dump(cv, open(\"cv.pkl\", \"wb\"))"
   ]
  },
  {
   "cell_type": "code",
   "execution_count": null,
   "id": "befe8838",
   "metadata": {},
   "outputs": [],
   "source": []
  }
 ],
 "metadata": {
  "kernelspec": {
   "display_name": "Python 3 (ipykernel)",
   "language": "python",
   "name": "python3"
  },
  "language_info": {
   "codemirror_mode": {
    "name": "ipython",
    "version": 3
   },
   "file_extension": ".py",
   "mimetype": "text/x-python",
   "name": "python",
   "nbconvert_exporter": "python",
   "pygments_lexer": "ipython3",
   "version": "3.9.7"
  }
 },
 "nbformat": 4,
 "nbformat_minor": 5
}
